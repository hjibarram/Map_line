{
 "cells": [
  {
   "cell_type": "code",
   "execution_count": 1,
   "id": "de8035ed-8d0a-4212-b932-3b1209aa3622",
   "metadata": {},
   "outputs": [],
   "source": [
    "import numpy as np\n",
    "from MapLines.tools.line_fit import line_fit,line_fit_single\n",
    "import MapLines.tools.tools as tol\n",
    "import os.path as ptt\n",
    "import warnings\n",
    "warnings.filterwarnings('ignore')"
   ]
  },
  {
   "cell_type": "markdown",
   "id": "73b8b22b-4de0-4c96-8084-666c711a0caa",
   "metadata": {},
   "source": [
    "## GET SDSS DATA"
   ]
  },
  {
   "cell_type": "code",
   "execution_count": 2,
   "id": "247916a7-baf6-4be9-8686-4875b0f823c0",
   "metadata": {},
   "outputs": [
    {
     "name": "stderr",
     "output_type": "stream",
     "text": [
      "--2025-04-07 13:59:43--  https://data.sdss.org/sas/dr16/eboss/spectro/redux/v5_13_0/spectra/lite/5715/spec-5715-56657-0166.fits\n",
      "Resolviendo data.sdss.org (data.sdss.org)... 155.101.19.133\n",
      "Conectando con data.sdss.org (data.sdss.org)[155.101.19.133]:443... conectado.\n",
      "Petición HTTP enviada, esperando respuesta... 200 OK\n",
      "Longitud: 218880 (214K) [application/octet-stream]\n",
      "Guardando como: ‘spec-5715-56657-0166.fits’\n",
      "\n",
      "     0K .......... .......... .......... .......... .......... 23%  756K 0s\n",
      "    50K .......... .......... .......... .......... .......... 46%  866K 0s\n",
      "... .......... .......... 70%  253K 0s\n",
      "   150K .......... .......... .......... .......... .......... 93% 40,6M 0s\n",
      "   200K .......... ...                                        100% 63,4M=0,3s\n",
      "\n",
      "2025-04-07 13:59:44 (662 KB/s) - ‘spec-5715-56657-0166.fits’ guardado [218880/218880]\n",
      "\n",
      "--2025-04-07 13:59:44--  http://./\n",
      "Resolviendo . (.)... falló: No existe ninguna dirección asociada al nombre.\n",
      "wget: no se pudo resolver la dirección del equipo ‘.’\n",
      "ACABADO --2025-04-07 13:59:44--\n",
      "Tiempo total de reloj: 0,8s\n",
      "Descargados: 1 ficheros, 214K en 0,3s (662 KB/s)\n"
     ]
    }
   ],
   "source": [
    "call='wget https://data.sdss.org/sas/dr16/eboss/spectro/redux/v5_13_0/spectra/lite/5715/spec-5715-56657-0166.fits .'\n",
    "tol.sycall(call)\n",
    "call='mv spec-5715-56657-0166.fits ../example_data/.'\n",
    "tol.sycall(call)"
   ]
  },
  {
   "cell_type": "markdown",
   "id": "0c784e3e-2f49-42f1-b9e0-f5a60bf55965",
   "metadata": {},
   "source": [
    "## GET MANGA DATA"
   ]
  },
  {
   "cell_type": "code",
   "execution_count": 3,
   "id": "5855444c-d115-44fd-9688-74801c019f7f",
   "metadata": {},
   "outputs": [],
   "source": [
    "call='wget https://data.sdss.org/sas/dr17/manga/spectro/redux/v3_1_1/8144/stack/manga-8144-3702-LINCUBE.fits.gz .'\n",
    "#tol.sycall(call) #/usr/local/bin/wget\n",
    "call='mv manga-8144-3702-LINCUBE.fits.gz ../example_data/.'\n",
    "#tol.sycall(call)"
   ]
  },
  {
   "cell_type": "markdown",
   "id": "dae1d129-aac9-457d-a61b-e3ae36de90d3",
   "metadata": {},
   "source": [
    "## FIT SDSS Spectra"
   ]
  },
  {
   "cell_type": "code",
   "execution_count": null,
   "id": "005be3da-2e00-4e05-9425-c7a1f396b5a6",
   "metadata": {},
   "outputs": [],
   "source": [
    "name_out='spec-5715-56657-0166'\n",
    "cont=False\n",
    "cont=True\n",
    "error_c=True\n",
    "lA1=4700.0\n",
    "lA2=5050.0\n",
    "skew=False\n",
    "lorentz=False\n",
    "outflow=False\n",
    "flux_f=1/10.0   #Set the flux to 10^-16erg/s/A/cm2 instead of the SDSS 10^-17 erg/s/A/cm2   \n",
    "dirt='../example_data/'\n",
    "dir_out='outputs/'\n",
    "ncpus=6\n",
    "input_format='SDSS'\n",
    "zt=0.0255\n",
    "file1=dirt+'NAME.fits'.replace('NAME',name_out) \n",
    "if ptt.exists(dir_out) == False:\n",
    "    tol.sycall('mkdir -p '+dir_out)\n",
    "config_lines='line_prop_HbOIII.yml'\n",
    "file_out=dir_out+'NAME_modelsV2'.replace('NAME',name_out)+'_HbOIII'\n",
    "file_out2=dir_out+'NAME_paramV2'.replace('NAME',name_out)+'_HbOIII'\n",
    "name_out2=name_out+'_HbOIII'\n",
    "line_fit_single(file1,file_out,file_out2,name_out2,input_format=input_format,z=zt,lA1=lA1,lA2=lA2,ncpu=ncpus,lorentz=lorentz,\n",
    "         skew=skew,flux_f=flux_f,erft=0.75,cont=cont,error_c=error_c,config_lines=config_lines,outflow=outflow)"
   ]
  },
  {
   "cell_type": "code",
   "execution_count": null,
   "id": "1d30af5a-779c-4ef4-91bc-fb1d789e65ef",
   "metadata": {},
   "outputs": [],
   "source": [
    "name_out='spec-5715-56657-0166'\n",
    "cont=False\n",
    "cont=True\n",
    "error_c=True\n",
    "lA1=6475.0\n",
    "lA2=6650.0\n",
    "skew=False\n",
    "lorentz=False\n",
    "outflow=False\n",
    "flux_f=1/10.0     #Set the flux to 10^-16erg/s/A/cm2 instead of the SDSS 10^-17 erg/s/A/cm2 \n",
    "dirt='../example_data/'\n",
    "dir_out='outputs/'\n",
    "ncpus=6\n",
    "input_format='SDSS'\n",
    "zt=0.0255\n",
    "file1=dirt+'NAME.fits'.replace('NAME',name_out) \n",
    "if ptt.exists(dir_out) == False:\n",
    "    tol.sycall('mkdir -p '+dir_out)\n",
    "config_lines='line_prop_HaNII.yml'\n",
    "file_out=dir_out+'NAME_modelsV2'.replace('NAME',name_out)+'_HaNII'\n",
    "file_out2=dir_out+'NAME_paramV2'.replace('NAME',name_out)+'_HaNII'\n",
    "name_out2=name_out+'_HaNII'\n",
    "line_fit_single(file1,file_out,file_out2,name_out2,input_format=input_format,z=zt,lA1=lA1,lA2=lA2,ncpu=ncpus,lorentz=lorentz,\n",
    "         skew=skew,flux_f=flux_f,erft=0.75,cont=cont,error_c=error_c,config_lines=config_lines,outflow=outflow)"
   ]
  },
  {
   "cell_type": "markdown",
   "id": "28e3a9d8-1372-4d71-8bf0-d305b8876143",
   "metadata": {},
   "source": [
    "## FIT MaNGA IFS Spectra"
   ]
  },
  {
   "cell_type": "code",
   "execution_count": null,
   "id": "7b69e702-cb14-46b1-a7a6-2ff5488fb93c",
   "metadata": {},
   "outputs": [],
   "source": [
    "lA1= 6450.0 #initial wave vale, it overrides wave_range if not None\n",
    "lA2= 6790.0 #final wave vale, it overrides wave_range if not None\n",
    "wave_range= 'HaNIISII' #name of the spectral range, options are Hbeta, Halpha and None\n",
    "\n",
    "name_out='manga-8144-3702-LINCUBE'\n",
    "test=True\n",
    "sprogressd=True\n",
    "cont=True\n",
    "error_c=True\n",
    "kskew=False\n",
    "outflow=False\n",
    "dirt='../example_data/'\n",
    "dir_out='outputs/'\n",
    "ncpus=6\n",
    "config_lines='line_prop_manga.yml'\n",
    "flux_f=1/10.0 \n",
    "it=0\n",
    "jt=0\n",
    "zt=0.09785\n",
    "\n",
    "if test:\n",
    "    pgr_bar=False\n",
    "    plot_f=True\n",
    "else:\n",
    "    plot_f=False\n",
    "    if sprogressd:\n",
    "        pgr_bar=False\n",
    "    else:\n",
    "        pgr_bar=True\n",
    "\n",
    "if kskew:\n",
    "    skew=True\n",
    "    skl='_skew'\n",
    "else:\n",
    "    skew=False\n",
    "    skl=''\n",
    "\n",
    "file1=dirt+'NAME.fits.gz'.replace('NAME',name_out)\n",
    "file2=dirt+'NAME.fits.gz'.replace('NAME',name_out)\n",
    "file3=dirt+'NAMEM.fits.gz'.replace('NAMEM','Mask')  \n",
    "if ptt.exists(dir_out) == False:\n",
    "    tol.sycall('mkdir -p '+dir_out)\n",
    "file_out=dir_out+'NAME_modelsV2'.replace('NAME',name_out)+wave_range+skl\n",
    "file_out2=dir_out+'NAME_paramV2'.replace('NAME',name_out)+wave_range+skl\n",
    "name_out2=name_out+wave_range+skl\n",
    "\n",
    "line_fit(file1,file2,file3,file_out,file_out2,name_out2,z=zt,lA1=lA1,lA2=lA2,plot_f=plot_f,pgr_bar=pgr_bar,ncpu=ncpus,\n",
    "         skew=skew,flux_f=flux_f,erft=0.75,cont=cont,test=test,error_c=error_c,i_t=it,j_t=jt,lorentz=lorentz,\n",
    "         config_lines=config_lines,outflow=outflow)"
   ]
  },
  {
   "cell_type": "code",
   "execution_count": null,
   "id": "b0a01429-77ee-4d27-a3ac-c41b32cd2383",
   "metadata": {},
   "outputs": [],
   "source": []
  }
 ],
 "metadata": {
  "kernelspec": {
   "display_name": "Python 3 (ipykernel)",
   "language": "python",
   "name": "python3"
  },
  "language_info": {
   "codemirror_mode": {
    "name": "ipython",
    "version": 3
   },
   "file_extension": ".py",
   "mimetype": "text/x-python",
   "name": "python",
   "nbconvert_exporter": "python",
   "pygments_lexer": "ipython3",
   "version": "3.13.2"
  }
 },
 "nbformat": 4,
 "nbformat_minor": 5
}
